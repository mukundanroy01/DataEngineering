{
 "cells": [
  {
   "cell_type": "code",
   "execution_count": 0,
   "metadata": {
    "application/vnd.databricks.v1+cell": {
     "cellMetadata": {
      "byteLimit": 2048000,
      "rowLimit": 10000
     },
     "inputWidgets": {},
     "nuid": "afbc5aaf-8e82-429b-9c13-cdbe08caf311",
     "showTitle": false,
     "title": ""
    }
   },
   "outputs": [],
   "source": [
    "location = \"abfss://<container-name>@<storage-account>.dfs.core.windows.net/Brazil_ECommerce/\""
   ]
  },
  {
   "cell_type": "code",
   "execution_count": 0,
   "metadata": {
    "application/vnd.databricks.v1+cell": {
     "cellMetadata": {
      "byteLimit": 2048000,
      "rowLimit": 10000
     },
     "inputWidgets": {},
     "nuid": "8e09f78b-d9ac-40c3-936e-d41012a39aaf",
     "showTitle": false,
     "title": ""
    }
   },
   "outputs": [],
   "source": [
    "df = spark.read.option(\"mode\", \"DROPMALFORMED\").option(\"header\", True).option(\"infer_Schema\", True).csv(location+\"Curated/brazil_e_commerce_curated.csv\")"
   ]
  },
  {
   "cell_type": "code",
   "execution_count": 0,
   "metadata": {
    "application/vnd.databricks.v1+cell": {
     "cellMetadata": {
      "byteLimit": 2048000,
      "rowLimit": 10000
     },
     "inputWidgets": {},
     "nuid": "a07009e2-7ad0-4ff4-9882-36eebfba134d",
     "showTitle": false,
     "title": ""
    }
   },
   "outputs": [
    {
     "output_type": "stream",
     "name": "stdout",
     "output_type": "stream",
     "text": [
      "Out[4]: True"
     ]
    }
   ],
   "source": [
    "from pyspark.sql.functions import col,lit,when\n",
    "\n",
    "df_products = df.select(\"Product_Id\", \"Product_Category\", \"Price\", \"Freight_Value\").distinct()\n",
    "\n",
    "df_products.coalesce(1).write.format(\"csv\").save(location + \"Developed/Temp\",header = True)\n",
    "\n",
    "filenames = dbutils.fs.ls(location + \"Developed/Temp\")\n",
    "name = ''\n",
    "\n",
    "for filename in filenames:\n",
    "    if filename.name.endswith('.csv'):\n",
    "        name = filename.name\n",
    "\n",
    "dbutils.fs.cp(location + \"Developed/Temp/\" + name, location + \"Developed/Brazil_ECommerce_Products.csv\")\n",
    "dbutils.fs.rm(location + \"Developed/Temp/\",recurse = True)"
   ]
  },
  {
   "cell_type": "code",
   "execution_count": 0,
   "metadata": {
    "application/vnd.databricks.v1+cell": {
     "cellMetadata": {
      "byteLimit": 2048000,
      "rowLimit": 10000
     },
     "inputWidgets": {},
     "nuid": "bb6bdb1d-e7d3-4b6a-abb4-ea713fa63988",
     "showTitle": false,
     "title": ""
    }
   },
   "outputs": [
    {
     "output_type": "stream",
     "name": "stdout",
     "output_type": "stream",
     "text": [
      "Out[5]: True"
     ]
    }
   ],
   "source": [
    "df_customers = df.select(\"Customer_Unique_Id\", \"Customer_Zip_Code\", \"Customer_City\", \"Customer_State\").distinct()\n",
    "\n",
    "df_customers.coalesce(1).write.format(\"csv\").save(location + \"Developed/Temp\",header = True)\n",
    "\n",
    "filenames = dbutils.fs.ls(location + \"Developed/Temp\")\n",
    "name = ''\n",
    "\n",
    "for filename in filenames:\n",
    "    if filename.name.endswith('.csv'):\n",
    "        name = filename.name\n",
    "\n",
    "dbutils.fs.cp(location + \"Developed/Temp/\" + name, location + \"Developed/Brazil_ECommerce_Customers.csv\")\n",
    "dbutils.fs.rm(location + \"Developed/Temp/\",recurse = True)"
   ]
  },
  {
   "cell_type": "code",
   "execution_count": 0,
   "metadata": {
    "application/vnd.databricks.v1+cell": {
     "cellMetadata": {
      "byteLimit": 2048000,
      "rowLimit": 10000
     },
     "inputWidgets": {},
     "nuid": "9b91aeaf-77fa-497c-bfb4-12a1e5722ff7",
     "showTitle": false,
     "title": ""
    }
   },
   "outputs": [
    {
     "output_type": "stream",
     "name": "stdout",
     "output_type": "stream",
     "text": [
      "Out[6]: True"
     ]
    }
   ],
   "source": [
    "df_sellers = df.select(\"Seller_Id\", \"Seller_Zip_Code\", \"Seller_City\", \"Seller_State\").distinct()\n",
    "\n",
    "df_sellers.coalesce(1).write.format(\"csv\").save(location + \"Developed/Temp\",header = True)\n",
    "\n",
    "filenames = dbutils.fs.ls(location + \"Developed/Temp\")\n",
    "name = ''\n",
    "\n",
    "for filename in filenames:\n",
    "    if filename.name.endswith('.csv'):\n",
    "        name = filename.name\n",
    "\n",
    "dbutils.fs.cp(location + \"Developed/Temp/\" + name, location + \"Developed/Brazil_ECommerce_Sellers.csv\")\n",
    "dbutils.fs.rm(location + \"Developed/Temp/\",recurse = True)"
   ]
  },
  {
   "cell_type": "code",
   "execution_count": 0,
   "metadata": {
    "application/vnd.databricks.v1+cell": {
     "cellMetadata": {
      "byteLimit": 2048000,
      "rowLimit": 10000
     },
     "inputWidgets": {},
     "nuid": "6aaf233e-af16-4f5d-bf39-5d80c41bb13d",
     "showTitle": false,
     "title": ""
    }
   },
   "outputs": [
    {
     "output_type": "stream",
     "name": "stdout",
     "output_type": "stream",
     "text": [
      "Out[7]: True"
     ]
    }
   ],
   "source": [
    "df_reviews = df.select(\"Review_Id\", \"Review_Score\").distinct()\n",
    "\n",
    "\n",
    "df_reviews.coalesce(1).write.format(\"csv\").save(location + \"Developed/Temp\",header = True)\n",
    "\n",
    "filenames = dbutils.fs.ls(location + \"Developed/Temp\")\n",
    "name = ''\n",
    "\n",
    "for filename in filenames:\n",
    "    if filename.name.endswith('.csv'):\n",
    "        name = filename.name\n",
    "\n",
    "dbutils.fs.cp(location + \"Developed/Temp/\" + name, location + \"Developed/Brazil_ECommerce_Reviews.csv\")\n",
    "dbutils.fs.rm(location + \"Developed/Temp/\",recurse = True)"
   ]
  },
  {
   "cell_type": "code",
   "execution_count": 0,
   "metadata": {
    "application/vnd.databricks.v1+cell": {
     "cellMetadata": {
      "byteLimit": 2048000,
      "rowLimit": 10000
     },
     "inputWidgets": {},
     "nuid": "17aec22c-3fd6-4049-8e1e-537fcd858cc8",
     "showTitle": false,
     "title": ""
    }
   },
   "outputs": [
    {
     "output_type": "stream",
     "name": "stdout",
     "output_type": "stream",
     "text": [
      "Out[10]: True"
     ]
    }
   ],
   "source": [
    "##When Required columns is more than Not required columns, it is better to apply drop\n",
    "df_orders = df.select(\"Order_Id\", \"Order_Status\", \"Product_Id\", \"Order_Item_Quantity\", \"Customer_Unique_Id\", \"Seller_Id\", \"Total_Payment\", \"Review_Id\", \"Order_Purchased_Dates\", \"Order_Estimated_Delivery_Dates\", \"Order_Delivered_Customer_Dates\")\n",
    "\n",
    "df_orders.coalesce(1).write.format(\"csv\").save(location + \"Developed/Temp\",header = True)\n",
    "\n",
    "filenames = dbutils.fs.ls(location + \"Developed/Temp\")\n",
    "name = ''\n",
    "\n",
    "for filename in filenames:\n",
    "    if filename.name.endswith('.csv'):\n",
    "        name = filename.name\n",
    "\n",
    "dbutils.fs.cp(location + \"Developed/Temp/\" + name, location + \"Developed/Brazil_ECommerce_Orders.csv\")\n",
    "dbutils.fs.rm(location + \"Developed/Temp/\",recurse = True)"
   ]
  },
  {
   "cell_type": "code",
   "execution_count": 0,
   "metadata": {
    "application/vnd.databricks.v1+cell": {
     "cellMetadata": {
      "byteLimit": 2048000,
      "rowLimit": 10000
     },
     "inputWidgets": {},
     "nuid": "068bffae-794a-45fd-b01d-6c0a4caae3f7",
     "showTitle": false,
     "title": ""
    }
   },
   "outputs": [],
   "source": [
    "from pyspark.sql.functions import datediff\n",
    "\n",
    "df_orders_analysed = df_orders.select(\"Order_Id\",\"Customer_Unique_Id\",\"Seller_Id\",\"Review_Id\",\n",
    "                                     (datediff(col(\"Order_Estimated_Delivery_Dates\"), col(\"Order_Delivered_Customer_Dates\")).alias(\"Order_Delivery_Delay_Days\")),\n",
    "                                         (datediff(col(\"Order_Delivered_Customer_Dates\"), col(\"Order_Purchased_Dates\"))).alias(\"Order_Life_Days\"))"
   ]
  },
  {
   "cell_type": "code",
   "execution_count": 0,
   "metadata": {
    "application/vnd.databricks.v1+cell": {
     "cellMetadata": {
      "byteLimit": 2048000,
      "rowLimit": 10000
     },
     "inputWidgets": {},
     "nuid": "b55c0b94-46fb-4319-9dc9-52c1ca6ebbfe",
     "showTitle": false,
     "title": ""
    }
   },
   "outputs": [],
   "source": [
    "df_orders_analysed = df_orders_analysed.withColumn(\"Delay_in_Delivery\", lit(when(col(\"Order_Delivery_Delay_Days\")<0, \"Yes\").otherwise(\"No\")))"
   ]
  },
  {
   "cell_type": "code",
   "execution_count": 0,
   "metadata": {
    "application/vnd.databricks.v1+cell": {
     "cellMetadata": {
      "byteLimit": 2048000,
      "rowLimit": 10000
     },
     "inputWidgets": {},
     "nuid": "db440309-6a9d-45b0-bbe5-bef783ea906d",
     "showTitle": false,
     "title": ""
    }
   },
   "outputs": [],
   "source": [
    "df_orders_analysed = df_orders_analysed.select(\"*\").join(df_reviews, df_orders_analysed[\"Review_Id\"]==df_reviews[\"Review_Id\"],\"inner\").drop(\"Review_Id\").distinct()"
   ]
  },
  {
   "cell_type": "code",
   "execution_count": 0,
   "metadata": {
    "application/vnd.databricks.v1+cell": {
     "cellMetadata": {
      "byteLimit": 2048000,
      "rowLimit": 10000
     },
     "inputWidgets": {},
     "nuid": "b4a11e44-c0c8-483b-a084-7bb6dd2d96ca",
     "showTitle": false,
     "title": ""
    }
   },
   "outputs": [
    {
     "output_type": "stream",
     "name": "stdout",
     "output_type": "stream",
     "text": [
      "Out[15]: True"
     ]
    }
   ],
   "source": [
    "df_orders_analysed.coalesce(1).write.format(\"csv\").save(location + \"Developed/Temp\",header = True)\n",
    "\n",
    "filenames = dbutils.fs.ls(location + \"Developed/Temp\")\n",
    "name = ''\n",
    "\n",
    "for filename in filenames:\n",
    "    if filename.name.endswith('.csv'):\n",
    "        name = filename.name\n",
    "\n",
    "dbutils.fs.cp(location + \"Developed/Temp/\" + name, location + \"Developed/Brazil_ECommerce_Orders_Agg.csv\")\n",
    "dbutils.fs.rm(location + \"Developed/Temp/\",recurse = True)"
   ]
  }
 ],
 "metadata": {
  "application/vnd.databricks.v1+notebook": {
   "dashboards": [],
   "language": "python",
   "notebookMetadata": {
    "pythonIndentUnit": 4
   },
   "notebookName": "Developing",
   "widgets": {}
  }
 },
 "nbformat": 4,
 "nbformat_minor": 0
}

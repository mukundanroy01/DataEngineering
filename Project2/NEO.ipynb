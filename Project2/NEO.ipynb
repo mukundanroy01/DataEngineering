{
 "cells": [
  {
   "cell_type": "code",
   "execution_count": 0,
   "metadata": {
    "application/vnd.databricks.v1+cell": {
     "cellMetadata": {
      "byteLimit": 2048000,
      "rowLimit": 10000
     },
     "inputWidgets": {},
     "nuid": "86397c58-c18f-457a-8594-535f23a9d27d",
     "showTitle": false,
     "title": ""
    }
   },
   "outputs": [],
   "source": [
    "spark.conf.set(\"fs.azure.account.key.azuredataengstorage.dfs.core.windows.net\",dbutils.secrets.get(scope=\"accessscope\",key=\"storageaccountaccesskey\"))"
   ]
  },
  {
   "cell_type": "code",
   "execution_count": 0,
   "metadata": {
    "application/vnd.databricks.v1+cell": {
     "cellMetadata": {
      "byteLimit": 2048000,
      "rowLimit": 10000
     },
     "inputWidgets": {},
     "nuid": "3dc35eac-223e-4848-bedf-684fd467a102",
     "showTitle": false,
     "title": ""
    }
   },
   "outputs": [],
   "source": [
    "location = \"abfss://<container>@<storageaccount>.dfs.core.windows.net/Near_Earth_Objects/\""
   ]
  },
  {
   "cell_type": "code",
   "execution_count": 0,
   "metadata": {
    "application/vnd.databricks.v1+cell": {
     "cellMetadata": {
      "byteLimit": 2048000,
      "rowLimit": 10000
     },
     "inputWidgets": {},
     "nuid": "163b9946-7d98-4364-80a4-7e6b0c704e21",
     "showTitle": false,
     "title": ""
    }
   },
   "outputs": [],
   "source": [
    "##Getting Raw JSON into DF\n",
    "df_neojson = spark.read.option(\"multiline\", True).option(\"infer_Schema\", True).json(location + \"Raw/NEO.json\")"
   ]
  },
  {
   "cell_type": "code",
   "execution_count": 0,
   "metadata": {
    "application/vnd.databricks.v1+cell": {
     "cellMetadata": {
      "byteLimit": 2048000,
      "rowLimit": 10000
     },
     "inputWidgets": {},
     "nuid": "10f9fa71-17d0-4dec-893f-dbd62132ea25",
     "showTitle": false,
     "title": ""
    }
   },
   "outputs": [],
   "source": [
    "from pyspark.sql.functions import explode, col, substring, udf, avg, sum, min, max, to_date, current_date, explode\n",
    "\n",
    "##Exploding Array Type Column\n",
    "dfneoexp = df_neojson.select(explode(col(\"near_earth_objects\")).alias(\"neoexp\"))"
   ]
  },
  {
   "cell_type": "code",
   "execution_count": 0,
   "metadata": {
    "application/vnd.databricks.v1+cell": {
     "cellMetadata": {
      "byteLimit": 2048000,
      "rowLimit": 10000
     },
     "inputWidgets": {},
     "nuid": "94e18f67-257b-4958-aa9f-bc004957db49",
     "showTitle": false,
     "title": ""
    }
   },
   "outputs": [],
   "source": [
    "dfexp = dfneoexp.select(\"*\",\n",
    "                        col(\"neoexp.id\").alias(\"neo_id\"),\n",
    "                        col(\"neoexp.neo_reference_id\").alias(\"neo_reference_id\"),\n",
    "                        col(\"neoexp.name\").alias(\"name\"),\n",
    "                        col(\"neoexp.name_limited\").alias(\"name_limited\"),\n",
    "                        col(\"neoexp.designation\").alias(\"designation\"),\n",
    "                        col(\"neoexp.absolute_magnitude_h\").alias(\"absolute_magnitude_h\"),\n",
    "                        col(\"neoexp.estimated_diameter.kilometers.estimated_diameter_min\").alias(\"estimated_diameter_minkm\"),\n",
    "                        col(\"neoexp.estimated_diameter.kilometers.estimated_diameter_max\").alias(\"estimated_diameter_maxkm\"),\n",
    "                        col(\"neoexp.is_potentially_hazardous_asteroid\").alias(\"potentially_hazardous\"),\n",
    "                        col(\"neoexp.orbital_data.orbit_id\").alias(\"orbit_id\"),\n",
    "                        col(\"neoexp.orbital_data.orbit_determination_date\").alias(\"orbit_determination_date\"),\n",
    "                        col(\"neoexp.orbital_data.first_observation_date\").alias(\"first_observation_date\"),\n",
    "                        col(\"neoexp.orbital_data.last_observation_date\").alias(\"last_observation_date\"),\n",
    "                        col(\"neoexp.orbital_data.data_arc_in_days\").alias(\"data_arc_in_days\"),\n",
    "                        col(\"neoexp.orbital_data.eccentricity\").alias(\"eccentricity\"),\n",
    "                        col(\"neoexp.orbital_data.inclination\").alias(\"inclination\"),\n",
    "                        col(\"neoexp.orbital_data.orbital_period\").alias(\"orbital_period\"),\n",
    "                        col(\"neoexp.orbital_data.orbit_class.orbit_class_type\").alias(\"orbit_class_type\"),\n",
    "                        col(\"neoexp.orbital_data.orbit_class.orbit_class_description\").alias(\"orbit_class_description\"),\n",
    "                        col(\"neoexp.is_sentry_object\").alias(\"is_sentry_object\"))"
   ]
  },
  {
   "cell_type": "code",
   "execution_count": 0,
   "metadata": {
    "application/vnd.databricks.v1+cell": {
     "cellMetadata": {
      "byteLimit": 2048000,
      "rowLimit": 10000
     },
     "inputWidgets": {},
     "nuid": "7cc99a6b-9f79-42f7-9897-3cba97bc0a6e",
     "showTitle": false,
     "title": ""
    }
   },
   "outputs": [],
   "source": [
    "##Exploding Nested Array Struct Column\n",
    "dfexp_close = dfexp.select(\"*\").withColumn(\"approachexp\", explode(col(\"neoexp.close_approach_data\")))"
   ]
  },
  {
   "cell_type": "code",
   "execution_count": 0,
   "metadata": {
    "application/vnd.databricks.v1+cell": {
     "cellMetadata": {
      "byteLimit": 2048000,
      "rowLimit": 10000
     },
     "inputWidgets": {},
     "nuid": "84c23645-81cd-4526-a41a-fe67ab37d702",
     "showTitle": false,
     "title": ""
    }
   },
   "outputs": [],
   "source": [
    "dfexp_neo = dfexp_close.select(\"*\",\n",
    "                       col(\"approachexp.close_approach_date\").alias(\"close_approach_date\"),\n",
    "                       col(\"approachexp.close_approach_date_full\").alias(\"close_approach_date_full\"),\n",
    "col(\"approachexp.relative_velocity.kilometers_per_hour\").alias(\"relative_velocity_kilometers_per_hour\"),\n",
    "col(\"approachexp.miss_distance.kilometers\").alias(\"miss_distance_kilometers\"),\n",
    "col(\"approachexp.orbiting_body\").alias(\"orbiting_body\")\n",
    "                       ).drop(\"neoexp\",\"approachexp\")"
   ]
  },
  {
   "cell_type": "code",
   "execution_count": 0,
   "metadata": {
    "application/vnd.databricks.v1+cell": {
     "cellMetadata": {
      "byteLimit": 2048000,
      "rowLimit": 10000
     },
     "inputWidgets": {},
     "nuid": "781c448a-e937-42ab-a13f-fef0854e0457",
     "showTitle": false,
     "title": ""
    }
   },
   "outputs": [],
   "source": [
    "##Saving DFs as Delimitted Files\n",
    "\n",
    "dfneo_attr = dfexp_neo.select(\"neo_id\", \"neo_reference_id\", \"name\", \"name_limited\", \"absolute_magnitude_h\",\n",
    "                           \"estimated_diameter_minkm\", \"estimated_diameter_maxkm\", \"potentially_hazardous\",\"is_sentry_object\").distinct()\n",
    "\n",
    "dfneo_attr.coalesce(1).write.format(\"csv\").save(location + \"Developed/Temp\",header = True)\n",
    "\n",
    "filenames = dbutils.fs.ls(location + \"Developed/Temp\")\n",
    "name = ''\n",
    "\n",
    "for filename in filenames:\n",
    "    if filename.name.endswith('.csv'):\n",
    "        name = filename.name\n",
    "\n",
    "dbutils.fs.cp(location + \"Developed/Temp/\" + name, location + \"Developed/Neo_Attributes.csv\")\n",
    "dbutils.fs.rm(location + \"Developed/Temp/\",recurse = True)"
   ]
  },
  {
   "cell_type": "code",
   "execution_count": 0,
   "metadata": {
    "application/vnd.databricks.v1+cell": {
     "cellMetadata": {
      "byteLimit": 2048000,
      "rowLimit": 10000
     },
     "inputWidgets": {},
     "nuid": "bd7e0021-874f-4e2e-830f-80f048b31113",
     "showTitle": false,
     "title": ""
    }
   },
   "outputs": [],
   "source": [
    "dfneo_orb = dfexp_neo.select(\"neo_id\",\"orbit_id\",\"orbit_determination_date\",\"last_observation_date\", \"data_arc_in_days\",\n",
    "                          \"inclination\", \"orbital_period\",\"orbit_class_type\",\"orbit_class_description\").distinct()\n",
    "\n",
    "dfneo_orb.coalesce(1).write.format(\"csv\").save(location + \"Developed/Temp\",header = True)\n",
    "\n",
    "filenames = dbutils.fs.ls(location + \"Developed/Temp\")\n",
    "name = ''\n",
    "\n",
    "for filename in filenames:\n",
    "    if filename.name.endswith('.csv'):\n",
    "        name = filename.name\n",
    "\n",
    "dbutils.fs.cp(location + \"Developed/Temp/\" + name, location + \"Developed/Neo_Orbits.csv\")\n",
    "dbutils.fs.rm(location + \"Developed/Temp/\",recurse = True)"
   ]
  },
  {
   "cell_type": "code",
   "execution_count": 0,
   "metadata": {
    "application/vnd.databricks.v1+cell": {
     "cellMetadata": {
      "byteLimit": 2048000,
      "rowLimit": 10000
     },
     "inputWidgets": {},
     "nuid": "eb5ec210-bf7c-4c46-9c39-4f829c29c891",
     "showTitle": false,
     "title": ""
    }
   },
   "outputs": [],
   "source": [
    "dfneo_dates = dfexp_neo.select(\"neo_id\",\"orbiting_body\",\"close_approach_date\",\"close_approach_date_full\",\"relative_velocity_kilometers_per_hour\",\n",
    "                            \"miss_distance_kilometers\")"
   ]
  },
  {
   "cell_type": "code",
   "execution_count": 0,
   "metadata": {
    "application/vnd.databricks.v1+cell": {
     "cellMetadata": {
      "byteLimit": 2048000,
      "rowLimit": 10000
     },
     "inputWidgets": {},
     "nuid": "89f1e65a-0e09-47d3-8f0d-70f55318319e",
     "showTitle": false,
     "title": ""
    }
   },
   "outputs": [],
   "source": [
    "dfneo_dates_mod = dfneo_dates.withColumn(\"approach_time\", substring(\"close_approach_date_full\",12,16)).drop(\"close_approach_date_full\")"
   ]
  },
  {
   "cell_type": "code",
   "execution_count": 0,
   "metadata": {
    "application/vnd.databricks.v1+cell": {
     "cellMetadata": {
      "byteLimit": 2048000,
      "rowLimit": 10000
     },
     "inputWidgets": {},
     "nuid": "5bf6f195-431a-45ee-893a-bc043885de22",
     "showTitle": false,
     "title": ""
    }
   },
   "outputs": [],
   "source": [
    "dfneo_dates_mod = dfneo_dates_mod.withColumn(\"close_approach_date_mod\", to_date(\"close_approach_date\")).drop(\"close_approach_date\")\n",
    "\n",
    "dfneo_dates_mod.coalesce(1).write.format(\"csv\").save(location + \"Developed/Temp\",header = True)\n",
    "\n",
    "filenames = dbutils.fs.ls(location + \"Developed/Temp\")\n",
    "name = ''\n",
    "\n",
    "for filename in filenames:\n",
    "    if filename.name.endswith('.csv'):\n",
    "        name = filename.name\n",
    "\n",
    "dbutils.fs.cp(location + \"Developed/Temp/\" + name, location + \"Developed/Neo_Dates.csv\")\n",
    "dbutils.fs.rm(location + \"Developed/Temp/\",recurse = True)"
   ]
  },
  {
   "cell_type": "code",
   "execution_count": 0,
   "metadata": {
    "application/vnd.databricks.v1+cell": {
     "cellMetadata": {},
     "inputWidgets": {},
     "nuid": "aa6e3b52-3354-4139-a0df-5a62eecb4c87",
     "showTitle": false,
     "title": ""
    }
   },
   "outputs": [],
   "source": [
    "df_id_date = dfneo_dates_mod.select(\"neo_id\",\"close_approach_date_mod\")"
   ]
  },
  {
   "cell_type": "code",
   "execution_count": 0,
   "metadata": {
    "application/vnd.databricks.v1+cell": {
     "cellMetadata": {
      "byteLimit": 2048000,
      "rowLimit": 10000
     },
     "inputWidgets": {},
     "nuid": "e82df98e-d4a9-45b0-86bc-4dea858c3c41",
     "showTitle": false,
     "title": ""
    }
   },
   "outputs": [],
   "source": [
    "#Converting \"Neo_Id\" column into List\n",
    "ls_ids = list(dict.fromkeys(df_id_date.rdd.map(lambda x: x.neo_id).collect()))"
   ]
  },
  {
   "cell_type": "code",
   "execution_count": 0,
   "metadata": {
    "application/vnd.databricks.v1+cell": {
     "cellMetadata": {
      "byteLimit": 2048000,
      "rowLimit": 10000
     },
     "inputWidgets": {},
     "nuid": "8cab34b4-482c-4c97-997f-bb5111db2e64",
     "showTitle": false,
     "title": ""
    }
   },
   "outputs": [],
   "source": [
    "from pyspark.sql.types import StringType, StructType, DateType, StructField\n",
    "\n",
    "#Creating an Empty Dataframe, which will hold the Previous and Next Approach dates of NEO\n",
    "\n",
    "schemas = StructType([StructField(\"neo_id\", StringType(), True),\n",
    "                      StructField(\"Previous_Approach_Date\", DateType(), True),\n",
    "                      StructField(\"Next_Approach_Date\", DateType(), True)])\n",
    "\n",
    "dfprev_nxt_dates = spark.createDataFrame([], schemas)"
   ]
  },
  {
   "cell_type": "code",
   "execution_count": 0,
   "metadata": {
    "application/vnd.databricks.v1+cell": {
     "cellMetadata": {
      "byteLimit": 2048000,
      "rowLimit": 10000
     },
     "inputWidgets": {},
     "nuid": "37883aa6-c799-40a1-a5ca-1d045e5ca537",
     "showTitle": false,
     "title": ""
    }
   },
   "outputs": [],
   "source": [
    "from pyspark.sql.window import Window\n",
    "from pyspark.sql.functions import lag, lead\n",
    "\n",
    "#Using Window function to obtain Previous and Next Approach dates of NEO with respect to Current Date\n",
    "windowinfo = Window.partitionBy(\"neo_id\").orderBy(col(\"close_approach_date_mod\").asc())\n",
    "\n",
    "for i in ls_ids:\n",
    "    df_only_id = df_id_date.select(\"*\").filter(col(\"neo_id\") == i)\n",
    "    dfcur = df_only_id.select(\"neo_id\",current_date().alias(\"Currentdate\")).distinct()\n",
    "    \n",
    "    dfalldates = df_only_id.union(dfcur)\n",
    "\n",
    "    dfalldates = dfalldates.withColumn(\"lag\", lag(\"close_approach_date_mod\").over(windowinfo)).withColumn(\"lead\",lead(\"close_approach_date_mod\").over(windowinfo))\n",
    "\n",
    "    df_curr_dates = dfalldates.select(\"*\").filter(col(\"close_approach_date_mod\") == current_date()).drop(\"close_approach_date_mod\")\n",
    "    dfprev_nxt_dates = dfprev_nxt_dates.union(df_curr_dates)"
   ]
  },
  {
   "cell_type": "code",
   "execution_count": 0,
   "metadata": {
    "application/vnd.databricks.v1+cell": {
     "cellMetadata": {},
     "inputWidgets": {},
     "nuid": "53776935-3739-48f3-9795-04a400dadf1b",
     "showTitle": false,
     "title": ""
    }
   },
   "outputs": [],
   "source": [
    "#Performing Grouping and Aggregations for analyses\n",
    "dfneo_dates_time_grouped = dfneo_dates_mod.groupBy(\"neo_id\").agg(avg(\"relative_velocity_kilometers_per_hour\"), max(\"relative_velocity_kilometers_per_hour\"), min(\"relative_velocity_kilometers_per_hour\"), avg(\"miss_distance_kilometers\"),\n",
    "                                                                 max(\"miss_distance_kilometers\"), min(\"miss_distance_kilometers\"),\n",
    "                                                            max(\"close_approach_date_mod\"), min(\"close_approach_date_mod\"))"
   ]
  },
  {
   "cell_type": "code",
   "execution_count": 0,
   "metadata": {
    "application/vnd.databricks.v1+cell": {
     "cellMetadata": {
      "byteLimit": 2048000,
      "rowLimit": 10000
     },
     "inputWidgets": {},
     "nuid": "ffbbf85e-eefe-4921-803a-3c8b93388816",
     "showTitle": false,
     "title": ""
    }
   },
   "outputs": [],
   "source": [
    "##Joining\n",
    "dfneo_dates_time_grouped = dfneo_dates_time_grouped.join(dfprev_nxt_dates, dfneo_dates_time_grouped[\"neo_id\"]==dfprev_nxt_dates[\"neo_id\"]).drop(dfprev_nxt_dates[\"neo_id\"])"
   ]
  },
  {
   "cell_type": "code",
   "execution_count": 0,
   "metadata": {
    "application/vnd.databricks.v1+cell": {
     "cellMetadata": {
      "byteLimit": 2048000,
      "rowLimit": 10000
     },
     "inputWidgets": {},
     "nuid": "a3e15ed8-d390-4ccd-81e2-2d69d947c517",
     "showTitle": false,
     "title": ""
    }
   },
   "outputs": [],
   "source": [
    "dfneo_dates_time_grouped.coalesce(1).write.format(\"csv\").save(location + \"Developed/Temp\",header = True)\n",
    "\n",
    "filenames = dbutils.fs.ls(location + \"Developed/Temp\")\n",
    "name = ''\n",
    "\n",
    "for filename in filenames:\n",
    "    if filename.name.endswith('.csv'):\n",
    "        name = filename.name\n",
    "\n",
    "dbutils.fs.cp(location + \"Developed/Temp/\" + name, location + \"Developed/Neo_Grouped.csv\")\n",
    "dbutils.fs.rm(location + \"Developed/Temp/\",recurse = True)"
   ]
  }
 ],
 "metadata": {
  "application/vnd.databricks.v1+notebook": {
   "dashboards": [],
   "language": "python",
   "notebookMetadata": {
    "pythonIndentUnit": 4
   },
   "notebookName": "NEO",
   "widgets": {}
  }
 },
 "nbformat": 4,
 "nbformat_minor": 0
}
